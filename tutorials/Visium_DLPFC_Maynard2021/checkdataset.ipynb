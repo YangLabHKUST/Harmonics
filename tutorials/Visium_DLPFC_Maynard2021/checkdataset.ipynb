{
 "cells": [
  {
   "cell_type": "code",
   "execution_count": 218,
   "metadata": {},
   "outputs": [],
   "source": [
    "import os\n",
    "import numpy as np\n",
    "import pandas as pd\n",
    "import anndata as ad\n",
    "import scanpy as sc\n",
    "import tifffile as tiff\n",
    "import matplotlib.pyplot as plt\n",
    "\n",
    "import warnings\n",
    "warnings.filterwarnings(\"ignore\")\n",
    "\n",
    "sc.settings.verbosity = 0\n",
    "sc.settings.set_figure_params(dpi=300, dpi_save=500)"
   ]
  },
  {
   "cell_type": "code",
   "execution_count": 219,
   "metadata": {},
   "outputs": [],
   "source": [
    "data_dir = '../../../Data/Spatial/Transcriptomics/Visium_DLPFC_Maynard2021/'\n",
    "sample_group_list = [['151507', '151508', '151509', '151510'],\n",
    "                     ['151669', '151670', '151671', '151672'],\n",
    "                     ['151673', '151674', '151675', '151676']]\n",
    "radius_list = [[48., 48., 49., 48.], \n",
    "               [48., 48., 48., 48.], \n",
    "               [48., 48., 48., 48.]]"
   ]
  },
  {
   "cell_type": "code",
   "execution_count": 220,
   "metadata": {},
   "outputs": [
    {
     "data": {
      "text/plain": [
       "AnnData object with n_obs × n_vars = 3460 × 33538\n",
       "    var: 'gene_ids', 'feature_types', 'genome'"
      ]
     },
     "execution_count": 220,
     "metadata": {},
     "output_type": "execute_result"
    }
   ],
   "source": [
    "sample_idx = 2\n",
    "slice_idx = 3\n",
    "sample = sample_group_list[sample_idx][slice_idx]\n",
    "radius = radius_list[sample_idx][slice_idx]\n",
    "\n",
    "adata = sc.read_10x_h5(data_dir + f'{sample}/{sample}_filtered_feature_bc_matrix.h5')\n",
    "# sc.pp.filter_genes(adata, min_cells=1)\n",
    "adata.var_names_make_unique()\n",
    "adata"
   ]
  },
  {
   "cell_type": "code",
   "execution_count": 221,
   "metadata": {},
   "outputs": [
    {
     "data": {
      "text/html": [
       "<div>\n",
       "<style scoped>\n",
       "    .dataframe tbody tr th:only-of-type {\n",
       "        vertical-align: middle;\n",
       "    }\n",
       "\n",
       "    .dataframe tbody tr th {\n",
       "        vertical-align: top;\n",
       "    }\n",
       "\n",
       "    .dataframe thead th {\n",
       "        text-align: right;\n",
       "    }\n",
       "</style>\n",
       "<table border=\"1\" class=\"dataframe\">\n",
       "  <thead>\n",
       "    <tr style=\"text-align: right;\">\n",
       "      <th></th>\n",
       "      <th>in_tissue</th>\n",
       "      <th>x</th>\n",
       "      <th>y</th>\n",
       "      <th>image_row</th>\n",
       "      <th>image_col</th>\n",
       "    </tr>\n",
       "    <tr>\n",
       "      <th>barcodes</th>\n",
       "      <th></th>\n",
       "      <th></th>\n",
       "      <th></th>\n",
       "      <th></th>\n",
       "      <th></th>\n",
       "    </tr>\n",
       "  </thead>\n",
       "  <tbody>\n",
       "    <tr>\n",
       "      <th>ACGCCTGACACGCGCT-1</th>\n",
       "      <td>0</td>\n",
       "      <td>0</td>\n",
       "      <td>0</td>\n",
       "      <td>2624</td>\n",
       "      <td>2673</td>\n",
       "    </tr>\n",
       "    <tr>\n",
       "      <th>TACCGATCCAACACTT-1</th>\n",
       "      <td>0</td>\n",
       "      <td>1</td>\n",
       "      <td>1</td>\n",
       "      <td>2745</td>\n",
       "      <td>2741</td>\n",
       "    </tr>\n",
       "    <tr>\n",
       "      <th>ATTAAAGCGGACGAGC-1</th>\n",
       "      <td>0</td>\n",
       "      <td>0</td>\n",
       "      <td>2</td>\n",
       "      <td>2625</td>\n",
       "      <td>2810</td>\n",
       "    </tr>\n",
       "    <tr>\n",
       "      <th>GATAAGGGACGATTAG-1</th>\n",
       "      <td>0</td>\n",
       "      <td>1</td>\n",
       "      <td>3</td>\n",
       "      <td>2746</td>\n",
       "      <td>2878</td>\n",
       "    </tr>\n",
       "    <tr>\n",
       "      <th>GTGCAAATCACCAATA-1</th>\n",
       "      <td>0</td>\n",
       "      <td>0</td>\n",
       "      <td>4</td>\n",
       "      <td>2626</td>\n",
       "      <td>2948</td>\n",
       "    </tr>\n",
       "  </tbody>\n",
       "</table>\n",
       "</div>"
      ],
      "text/plain": [
       "                    in_tissue  x  y  image_row  image_col\n",
       "barcodes                                                 \n",
       "ACGCCTGACACGCGCT-1          0  0  0       2624       2673\n",
       "TACCGATCCAACACTT-1          0  1  1       2745       2741\n",
       "ATTAAAGCGGACGAGC-1          0  0  2       2625       2810\n",
       "GATAAGGGACGATTAG-1          0  1  3       2746       2878\n",
       "GTGCAAATCACCAATA-1          0  0  4       2626       2948"
      ]
     },
     "execution_count": 221,
     "metadata": {},
     "output_type": "execute_result"
    }
   ],
   "source": [
    "coords = pd.read_csv(data_dir + f'{sample}/spatial/tissue_positions_list.csv', header=None, index_col=None)\n",
    "coords.columns = ['barcodes', 'in_tissue', 'x', 'y', 'image_row', 'image_col']\n",
    "coords.set_index('barcodes', inplace=True)\n",
    "coords.head()"
   ]
  },
  {
   "cell_type": "code",
   "execution_count": 222,
   "metadata": {},
   "outputs": [],
   "source": [
    "adata.obs = coords.loc[adata.obs_names].copy()\n",
    "adata.obsm['spatial'] = adata.obs[['y', 'x']].astype(float).values\n",
    "adata.obsm['spatial_img'] = adata.obs[['image_col', 'image_row']].astype(float).values\n",
    "adata.obsm['radius'] = radius * np.ones((adata.shape[0], 1))  "
   ]
  },
  {
   "cell_type": "code",
   "execution_count": 223,
   "metadata": {},
   "outputs": [
    {
     "data": {
      "text/plain": [
       "AnnData object with n_obs × n_vars = 3460 × 33538\n",
       "    obs: 'in_tissue', 'x', 'y', 'image_row', 'image_col', 'imagerow', 'imagecol', 'Manual_Annotation'\n",
       "    var: 'gene_ids', 'feature_types', 'genome'\n",
       "    obsm: 'spatial', 'spatial_img', 'radius'"
      ]
     },
     "execution_count": 223,
     "metadata": {},
     "output_type": "execute_result"
    }
   ],
   "source": [
    "# read the annotation\n",
    "Ann_df = pd.read_csv(data_dir + f'{sample}/meta_data.csv', sep=',', index_col=0, header=0)\n",
    "\n",
    "if not all(Ann_df.index.isin(adata.obs_names)):\n",
    "    raise ValueError(\"Some rows in the annotation file are not present in the adata.obs_names\")\n",
    "\n",
    "adata.obs['imagerow'] = Ann_df.loc[adata.obs_names, 'imagerow']\n",
    "adata.obs['imagecol'] = Ann_df.loc[adata.obs_names, 'imagecol']\n",
    "adata.obs['Manual_Annotation'] = Ann_df.loc[adata.obs_names, 'ManualAnnotation']\n",
    "adata"
   ]
  },
  {
   "cell_type": "code",
   "execution_count": 224,
   "metadata": {},
   "outputs": [],
   "source": [
    "adata.write_h5ad(data_dir + f'{sample}/{sample}_adata.h5ad')"
   ]
  },
  {
   "cell_type": "code",
   "execution_count": 225,
   "metadata": {},
   "outputs": [
    {
     "data": {
      "text/plain": [
       "AnnData object with n_obs × n_vars = 3460 × 33538\n",
       "    obs: 'in_tissue', 'x', 'y', 'image_row', 'image_col', 'imagerow', 'imagecol', 'Manual_Annotation'\n",
       "    var: 'gene_ids', 'feature_types', 'genome'\n",
       "    obsm: 'radius', 'spatial', 'spatial_img'"
      ]
     },
     "execution_count": 225,
     "metadata": {},
     "output_type": "execute_result"
    }
   ],
   "source": [
    "adata = ad.read_h5ad(data_dir + f'{sample}/{sample}_adata.h5ad')\n",
    "adata"
   ]
  },
  {
   "cell_type": "code",
   "execution_count": 226,
   "metadata": {},
   "outputs": [],
   "source": [
    "# image = tiff.imread(data_dir + f'{sample}/spatial/full_image.tif')\n",
    "# image.shape"
   ]
  }
 ],
 "metadata": {
  "kernelspec": {
   "display_name": "CNI",
   "language": "python",
   "name": "python3"
  },
  "language_info": {
   "codemirror_mode": {
    "name": "ipython",
    "version": 3
   },
   "file_extension": ".py",
   "mimetype": "text/x-python",
   "name": "python",
   "nbconvert_exporter": "python",
   "pygments_lexer": "ipython3",
   "version": "3.11.0"
  }
 },
 "nbformat": 4,
 "nbformat_minor": 2
}
