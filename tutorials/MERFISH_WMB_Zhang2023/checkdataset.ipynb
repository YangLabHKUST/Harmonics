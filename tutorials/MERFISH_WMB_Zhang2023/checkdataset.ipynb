{
 "cells": [
  {
   "cell_type": "code",
   "execution_count": 1,
   "id": "eb709670",
   "metadata": {},
   "outputs": [],
   "source": [
    "import os\n",
    "import scanpy as sc\n",
    "import pandas as pd\n",
    "import numpy as np\n",
    "import anndata as ad\n",
    "import seaborn as sns\n",
    "import scipy.sparse as sp\n",
    "import matplotlib.pyplot as plt\n",
    "\n",
    "import warnings\n",
    "warnings.filterwarnings(\"ignore\")\n",
    "\n",
    "sc.settings.verbosity = 0\n",
    "sc.settings.set_figure_params(dpi=50, dpi_save=500)\n",
    "from matplotlib import rcParams\n",
    "rcParams[\"figure.dpi\"] = 50\n",
    "rcParams[\"savefig.dpi\"] = 500"
   ]
  },
  {
   "cell_type": "code",
   "execution_count": 2,
   "id": "d91fa98a",
   "metadata": {},
   "outputs": [],
   "source": [
    "data_dir = '../../../Data/Spatial/Transcriptomics/MERFISH_WMB_Zhang2023/animal3_sagittal/'\n",
    "if not os.path.exists(data_dir + 'processed/'):\n",
    "    os.makedirs(data_dir + 'processed/')"
   ]
  },
  {
   "cell_type": "code",
   "execution_count": 3,
   "id": "df2e12be",
   "metadata": {},
   "outputs": [
    {
     "data": {
      "text/plain": [
       "AnnData object with n_obs × n_vars = 2081549 × 1122\n",
       "    obs: 'organism_ontology_term_id', 'donor_id', 'development_stage_ontology_term_id', 'sex_ontology_term_id', 'self_reported_ethnicity_ontology_term_id', 'disease_ontology_term_id', 'tissue_ontology_term_id', 'cell_type_ontology_term_id', 'assay_ontology_term_id', 'suspension_type', 'cluster_id_transfer', 'subclass_transfer', 'cluster_confidence_score', 'subclass_confidence_score', 'high_quality_transfer', 'major_brain_region', 'ccf_region_name', 'brain_section_label', 'is_primary_data', 'tissue_type', 'cell_type', 'assay', 'disease', 'organism', 'sex', 'tissue', 'self_reported_ethnicity', 'development_stage', 'observation_joinid'\n",
       "    var: 'gene_name', 'feature_is_filtered', 'feature_name', 'feature_reference', 'feature_biotype', 'feature_length', 'feature_type'\n",
       "    uns: 'citation', 'schema_reference', 'schema_version', 'title'\n",
       "    obsm: 'X_CCF', 'X_spatial_coords', 'X_umap'"
      ]
     },
     "execution_count": 3,
     "metadata": {},
     "output_type": "execute_result"
    }
   ],
   "source": [
    "adata_concat = ad.read_h5ad(data_dir + 'WB_MERFISH_animal3_sagittal.h5ad')\n",
    "adata_concat"
   ]
  },
  {
   "cell_type": "code",
   "execution_count": null,
   "id": "39a8c277",
   "metadata": {},
   "outputs": [
    {
     "data": {
      "text/plain": [
       "AnnData object with n_obs × n_vars = 2081549 × 1122\n",
       "    obs: 'donor_id', 'cell_type_ontology_term_id', 'tissue_ontology_term_id', 'subclass_transfer', 'major_brain_region', 'ccf_region_name', 'brain_section_label', 'cell_type', 'tissue', 'development_stage'\n",
       "    var: 'feature_name', 'feature_type'\n",
       "    obsm: 'spatial', 'spatial_ccf'"
      ]
     },
     "execution_count": 4,
     "metadata": {},
     "output_type": "execute_result"
    }
   ],
   "source": [
    "adata_concat_new = ad.AnnData(X=adata_concat.raw.X.copy())\n",
    "adata_concat_new.obs_names = adata_concat.obs_names.copy()\n",
    "adata_concat_new.var_names = list(adata_concat.var['gene_name'].reindex(adata_concat.var_names))\n",
    "\n",
    "adata_concat_new.var['feature_name'] = adata_concat.var['feature_name'].copy()\n",
    "adata_concat_new.var['feature_type'] = adata_concat.var['feature_type'].copy()\n",
    "\n",
    "obs_list = ['donor_id', 'cell_type_ontology_term_id', 'tissue_ontology_term_id', \n",
    "            'subclass_transfer', 'major_brain_region', 'ccf_region_name', 'brain_section_label',\n",
    "            'cell_type', 'tissue', 'development_stage']\n",
    "for key in obs_list:\n",
    "    adata_concat_new.obs[key] = adata_concat.obs[key].copy()\n",
    "    \n",
    "adata_concat_new.obsm['spatial'] = adata_concat.obsm['X_spatial_coords']\n",
    "adata_concat_new.obsm['spatial_ccf'] = adata_concat.obsm['X_CCF']\n",
    "adata_concat_new"
   ]
  },
  {
   "cell_type": "code",
   "execution_count": 5,
   "id": "c7b666ba",
   "metadata": {},
   "outputs": [
    {
     "data": {
      "text/plain": [
       "['C57BL6J-3.001',\n",
       " 'C57BL6J-3.002',\n",
       " 'C57BL6J-3.003',\n",
       " 'C57BL6J-3.004',\n",
       " 'C57BL6J-3.005',\n",
       " 'C57BL6J-3.006',\n",
       " 'C57BL6J-3.007',\n",
       " 'C57BL6J-3.008',\n",
       " 'C57BL6J-3.009',\n",
       " 'C57BL6J-3.010',\n",
       " 'C57BL6J-3.011',\n",
       " 'C57BL6J-3.012',\n",
       " 'C57BL6J-3.013',\n",
       " 'C57BL6J-3.015',\n",
       " 'C57BL6J-3.016',\n",
       " 'C57BL6J-3.017',\n",
       " 'C57BL6J-3.019',\n",
       " 'C57BL6J-3.020',\n",
       " 'C57BL6J-3.021',\n",
       " 'C57BL6J-3.022',\n",
       " 'C57BL6J-3.023',\n",
       " 'C57BL6J-3.024',\n",
       " 'C57BL6J-3.025']"
      ]
     },
     "execution_count": 5,
     "metadata": {},
     "output_type": "execute_result"
    }
   ],
   "source": [
    "slice_name_list = sorted(set(adata_concat_new.obs['brain_section_label']))\n",
    "slice_name_list"
   ]
  },
  {
   "cell_type": "code",
   "execution_count": null,
   "id": "a700baef",
   "metadata": {},
   "outputs": [
    {
     "name": "stdout",
     "output_type": "stream",
     "text": [
      "C57BL6J-3.001: (107775, 1122)\n",
      "C57BL6J-3.002: (128295, 1122)\n",
      "C57BL6J-3.003: (146832, 1122)\n",
      "C57BL6J-3.004: (155538, 1122)\n",
      "C57BL6J-3.005: (156668, 1122)\n",
      "C57BL6J-3.006: (127327, 1122)\n",
      "C57BL6J-3.007: (137117, 1122)\n",
      "C57BL6J-3.008: (126309, 1122)\n",
      "C57BL6J-3.009: (113720, 1122)\n",
      "C57BL6J-3.010: (110927, 1122)\n",
      "C57BL6J-3.011: (105954, 1122)\n",
      "C57BL6J-3.012: (93532, 1122)\n",
      "C57BL6J-3.013: (91250, 1122)\n",
      "C57BL6J-3.015: (92271, 1122)\n",
      "C57BL6J-3.016: (70494, 1122)\n",
      "C57BL6J-3.017: (65952, 1122)\n",
      "C57BL6J-3.019: (57649, 1122)\n",
      "C57BL6J-3.020: (52960, 1122)\n",
      "C57BL6J-3.021: (46707, 1122)\n",
      "C57BL6J-3.022: (34694, 1122)\n",
      "C57BL6J-3.023: (24540, 1122)\n",
      "C57BL6J-3.024: (20838, 1122)\n",
      "C57BL6J-3.025: (14200, 1122)\n"
     ]
    }
   ],
   "source": [
    "for slice_name in slice_name_list:\n",
    "\n",
    "    adata = adata_concat_new[adata_concat_new.obs['brain_section_label'] == slice_name, :].copy()\n",
    "    print(f\"{slice_name}: {adata.shape}\")\n",
    "\n",
    "#     adata.write_h5ad(data_dir + f'processed/{slice_name}.h5ad')\n",
    "\n",
    "# with open(data_dir + \"processed/slice_name_list.txt\", \"w\") as f:\n",
    "#     for file_name in slice_name_list:\n",
    "#         f.write(file_name + '\\n')"
   ]
  },
  {
   "cell_type": "code",
   "execution_count": 7,
   "id": "7d3a44ad",
   "metadata": {},
   "outputs": [
    {
     "name": "stdout",
     "output_type": "stream",
     "text": [
      "indices: [  45378   45379   45380 ... 2081546 2081547 2081548]\n",
      "number: 25179\n"
     ]
    }
   ],
   "source": [
    "nan_rows = np.any(np.isnan(adata_concat_new.obsm['spatial_ccf']), axis=1)\n",
    "\n",
    "print(\"indices:\", np.where(nan_rows)[0])\n",
    "print(\"number:\", np.sum(nan_rows))"
   ]
  }
 ],
 "metadata": {
  "kernelspec": {
   "display_name": "CNI",
   "language": "python",
   "name": "python3"
  },
  "language_info": {
   "codemirror_mode": {
    "name": "ipython",
    "version": 3
   },
   "file_extension": ".py",
   "mimetype": "text/x-python",
   "name": "python",
   "nbconvert_exporter": "python",
   "pygments_lexer": "ipython3",
   "version": "3.11.0"
  }
 },
 "nbformat": 4,
 "nbformat_minor": 5
}
